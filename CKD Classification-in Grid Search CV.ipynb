{
 "cells": [
  {
   "cell_type": "code",
   "execution_count": 1,
   "id": "f3738e9d-2365-40df-b69b-0190e1a38921",
   "metadata": {},
   "outputs": [],
   "source": [
    "import pandas as pd #import pandas library\n",
    "import numpy as np  #import numoy library\n",
    "import matplotlib.pyplot as plt  #import pyplot library\n",
    "from sklearn.metrics import f1_score"
   ]
  },
  {
   "cell_type": "code",
   "execution_count": 2,
   "id": "b04710fa-7d07-42e4-9827-92024e741397",
   "metadata": {},
   "outputs": [
    {
     "data": {
      "text/html": [
       "<div>\n",
       "<style scoped>\n",
       "    .dataframe tbody tr th:only-of-type {\n",
       "        vertical-align: middle;\n",
       "    }\n",
       "\n",
       "    .dataframe tbody tr th {\n",
       "        vertical-align: top;\n",
       "    }\n",
       "\n",
       "    .dataframe thead th {\n",
       "        text-align: right;\n",
       "    }\n",
       "</style>\n",
       "<table border=\"1\" class=\"dataframe\">\n",
       "  <thead>\n",
       "    <tr style=\"text-align: right;\">\n",
       "      <th></th>\n",
       "      <th>age</th>\n",
       "      <th>bp</th>\n",
       "      <th>sg</th>\n",
       "      <th>al</th>\n",
       "      <th>su</th>\n",
       "      <th>rbc</th>\n",
       "      <th>pc</th>\n",
       "      <th>pcc</th>\n",
       "      <th>ba</th>\n",
       "      <th>bgr</th>\n",
       "      <th>...</th>\n",
       "      <th>pcv</th>\n",
       "      <th>wc</th>\n",
       "      <th>rc</th>\n",
       "      <th>htn</th>\n",
       "      <th>dm</th>\n",
       "      <th>cad</th>\n",
       "      <th>appet</th>\n",
       "      <th>pe</th>\n",
       "      <th>ane</th>\n",
       "      <th>classification</th>\n",
       "    </tr>\n",
       "  </thead>\n",
       "  <tbody>\n",
       "    <tr>\n",
       "      <th>0</th>\n",
       "      <td>2.0</td>\n",
       "      <td>76.459948</td>\n",
       "      <td>c</td>\n",
       "      <td>3.0</td>\n",
       "      <td>0.0</td>\n",
       "      <td>normal</td>\n",
       "      <td>abnormal</td>\n",
       "      <td>notpresent</td>\n",
       "      <td>notpresent</td>\n",
       "      <td>148.112676</td>\n",
       "      <td>...</td>\n",
       "      <td>38.868902</td>\n",
       "      <td>8408.191126</td>\n",
       "      <td>4.705597</td>\n",
       "      <td>no</td>\n",
       "      <td>no</td>\n",
       "      <td>no</td>\n",
       "      <td>yes</td>\n",
       "      <td>yes</td>\n",
       "      <td>no</td>\n",
       "      <td>yes</td>\n",
       "    </tr>\n",
       "    <tr>\n",
       "      <th>1</th>\n",
       "      <td>3.0</td>\n",
       "      <td>76.459948</td>\n",
       "      <td>c</td>\n",
       "      <td>2.0</td>\n",
       "      <td>0.0</td>\n",
       "      <td>normal</td>\n",
       "      <td>normal</td>\n",
       "      <td>notpresent</td>\n",
       "      <td>notpresent</td>\n",
       "      <td>148.112676</td>\n",
       "      <td>...</td>\n",
       "      <td>34.000000</td>\n",
       "      <td>12300.000000</td>\n",
       "      <td>4.705597</td>\n",
       "      <td>no</td>\n",
       "      <td>no</td>\n",
       "      <td>no</td>\n",
       "      <td>yes</td>\n",
       "      <td>poor</td>\n",
       "      <td>no</td>\n",
       "      <td>yes</td>\n",
       "    </tr>\n",
       "    <tr>\n",
       "      <th>2</th>\n",
       "      <td>4.0</td>\n",
       "      <td>76.459948</td>\n",
       "      <td>a</td>\n",
       "      <td>1.0</td>\n",
       "      <td>0.0</td>\n",
       "      <td>normal</td>\n",
       "      <td>normal</td>\n",
       "      <td>notpresent</td>\n",
       "      <td>notpresent</td>\n",
       "      <td>99.000000</td>\n",
       "      <td>...</td>\n",
       "      <td>34.000000</td>\n",
       "      <td>8408.191126</td>\n",
       "      <td>4.705597</td>\n",
       "      <td>no</td>\n",
       "      <td>no</td>\n",
       "      <td>no</td>\n",
       "      <td>yes</td>\n",
       "      <td>poor</td>\n",
       "      <td>no</td>\n",
       "      <td>yes</td>\n",
       "    </tr>\n",
       "  </tbody>\n",
       "</table>\n",
       "<p>3 rows × 25 columns</p>\n",
       "</div>"
      ],
      "text/plain": [
       "   age         bp sg   al   su     rbc        pc         pcc          ba  \\\n",
       "0  2.0  76.459948  c  3.0  0.0  normal  abnormal  notpresent  notpresent   \n",
       "1  3.0  76.459948  c  2.0  0.0  normal    normal  notpresent  notpresent   \n",
       "2  4.0  76.459948  a  1.0  0.0  normal    normal  notpresent  notpresent   \n",
       "\n",
       "          bgr  ...        pcv            wc        rc  htn  dm  cad  appet  \\\n",
       "0  148.112676  ...  38.868902   8408.191126  4.705597   no  no   no    yes   \n",
       "1  148.112676  ...  34.000000  12300.000000  4.705597   no  no   no    yes   \n",
       "2   99.000000  ...  34.000000   8408.191126  4.705597   no  no   no    yes   \n",
       "\n",
       "     pe ane classification  \n",
       "0   yes  no            yes  \n",
       "1  poor  no            yes  \n",
       "2  poor  no            yes  \n",
       "\n",
       "[3 rows x 25 columns]"
      ]
     },
     "execution_count": 2,
     "metadata": {},
     "output_type": "execute_result"
    }
   ],
   "source": [
    "df = pd.read_csv('CKD.csv') #taking excel data to pandas dataframe\n",
    "df.head(3) #Show first three rows of the dataframe"
   ]
  },
  {
   "cell_type": "code",
   "execution_count": 3,
   "id": "4a2ce59c-5960-45b9-8396-705268b89d95",
   "metadata": {},
   "outputs": [
    {
     "data": {
      "text/plain": [
       "(399, 25)"
      ]
     },
     "execution_count": 3,
     "metadata": {},
     "output_type": "execute_result"
    }
   ],
   "source": [
    "df.shape # get the shape of the dataframe"
   ]
  },
  {
   "cell_type": "code",
   "execution_count": 4,
   "id": "24c242f5-bb09-433d-a789-6452e358228f",
   "metadata": {},
   "outputs": [
    {
     "data": {
      "text/plain": [
       "Index(['age', 'bp', 'sg', 'al', 'su', 'rbc', 'pc', 'pcc', 'ba', 'bgr', 'bu',\n",
       "       'sc', 'sod', 'pot', 'hrmo', 'pcv', 'wc', 'rc', 'htn', 'dm', 'cad',\n",
       "       'appet', 'pe', 'ane', 'classification'],\n",
       "      dtype='object')"
      ]
     },
     "execution_count": 4,
     "metadata": {},
     "output_type": "execute_result"
    }
   ],
   "source": [
    "df.columns"
   ]
  },
  {
   "cell_type": "code",
   "execution_count": 5,
   "id": "2bb37c94-a282-414a-ae3b-3d83646be898",
   "metadata": {},
   "outputs": [
    {
     "data": {
      "text/plain": [
       "classification\n",
       "yes    249\n",
       "no     150\n",
       "Name: count, dtype: int64"
      ]
     },
     "execution_count": 5,
     "metadata": {},
     "output_type": "execute_result"
    }
   ],
   "source": [
    "df['classification'].value_counts() #get number of types in output"
   ]
  },
  {
   "cell_type": "code",
   "execution_count": 6,
   "id": "f7124776-f3a0-4aba-b08c-2066bc6261d4",
   "metadata": {},
   "outputs": [
    {
     "data": {
      "text/plain": [
       "array(['abnormal', 'normal'], dtype=object)"
      ]
     },
     "execution_count": 6,
     "metadata": {},
     "output_type": "execute_result"
    }
   ],
   "source": [
    "df['pc'].unique()"
   ]
  },
  {
   "cell_type": "code",
   "execution_count": 7,
   "id": "4272d7ce-9f7b-4423-aa03-799f4798b071",
   "metadata": {},
   "outputs": [
    {
     "data": {
      "text/plain": [
       "<bound method NDFrame.describe of            age         bp sg   al   su     rbc        pc         pcc  \\\n",
       "0     2.000000  76.459948  c  3.0  0.0  normal  abnormal  notpresent   \n",
       "1     3.000000  76.459948  c  2.0  0.0  normal    normal  notpresent   \n",
       "2     4.000000  76.459948  a  1.0  0.0  normal    normal  notpresent   \n",
       "3     5.000000  76.459948  d  1.0  0.0  normal    normal  notpresent   \n",
       "4     5.000000  50.000000  c  0.0  0.0  normal    normal  notpresent   \n",
       "..         ...        ... ..  ...  ...     ...       ...         ...   \n",
       "394  51.492308  70.000000  a  0.0  0.0  normal    normal  notpresent   \n",
       "395  51.492308  70.000000  c  0.0  2.0  normal    normal  notpresent   \n",
       "396  51.492308  70.000000  c  3.0  0.0  normal    normal  notpresent   \n",
       "397  51.492308  90.000000  a  0.0  0.0  normal    normal  notpresent   \n",
       "398  51.492308  80.000000  a  0.0  0.0  normal    normal  notpresent   \n",
       "\n",
       "             ba         bgr  ...        pcv            wc        rc  htn   dm  \\\n",
       "0    notpresent  148.112676  ...  38.868902   8408.191126  4.705597   no   no   \n",
       "1    notpresent  148.112676  ...  34.000000  12300.000000  4.705597   no   no   \n",
       "2    notpresent   99.000000  ...  34.000000   8408.191126  4.705597   no   no   \n",
       "3    notpresent  148.112676  ...  38.868902   8408.191126  4.705597   no   no   \n",
       "4    notpresent  148.112676  ...  36.000000  12400.000000  4.705597   no   no   \n",
       "..          ...         ...  ...        ...           ...       ...  ...  ...   \n",
       "394  notpresent  219.000000  ...  37.000000   9800.000000  4.400000   no   no   \n",
       "395  notpresent  220.000000  ...  27.000000   8408.191126  4.705597  yes  yes   \n",
       "396  notpresent  110.000000  ...  26.000000   9200.000000  3.400000  yes  yes   \n",
       "397  notpresent  207.000000  ...  38.868902   8408.191126  4.705597  yes  yes   \n",
       "398  notpresent  100.000000  ...  53.000000   8500.000000  4.900000   no   no   \n",
       "\n",
       "     cad  appet    pe  ane classification  \n",
       "0     no    yes   yes   no            yes  \n",
       "1     no    yes  poor   no            yes  \n",
       "2     no    yes  poor   no            yes  \n",
       "3     no    yes  poor  yes            yes  \n",
       "4     no    yes  poor   no            yes  \n",
       "..   ...    ...   ...  ...            ...  \n",
       "394   no    yes  poor   no            yes  \n",
       "395   no    yes  poor  yes            yes  \n",
       "396   no   poor  poor   no            yes  \n",
       "397   no    yes  poor  yes            yes  \n",
       "398   no    yes  poor   no             no  \n",
       "\n",
       "[399 rows x 25 columns]>"
      ]
     },
     "execution_count": 7,
     "metadata": {},
     "output_type": "execute_result"
    }
   ],
   "source": [
    "df.describe #df description"
   ]
  },
  {
   "cell_type": "code",
   "execution_count": 8,
   "id": "4634187a-8f63-4ac8-935c-e076e34fe531",
   "metadata": {},
   "outputs": [
    {
     "data": {
      "text/html": [
       "<div>\n",
       "<style scoped>\n",
       "    .dataframe tbody tr th:only-of-type {\n",
       "        vertical-align: middle;\n",
       "    }\n",
       "\n",
       "    .dataframe tbody tr th {\n",
       "        vertical-align: top;\n",
       "    }\n",
       "\n",
       "    .dataframe thead th {\n",
       "        text-align: right;\n",
       "    }\n",
       "</style>\n",
       "<table border=\"1\" class=\"dataframe\">\n",
       "  <thead>\n",
       "    <tr style=\"text-align: right;\">\n",
       "      <th></th>\n",
       "      <th>age</th>\n",
       "      <th>bp</th>\n",
       "      <th>al</th>\n",
       "      <th>su</th>\n",
       "      <th>bgr</th>\n",
       "      <th>bu</th>\n",
       "      <th>sc</th>\n",
       "      <th>sod</th>\n",
       "      <th>pot</th>\n",
       "      <th>hrmo</th>\n",
       "      <th>...</th>\n",
       "      <th>pc_normal</th>\n",
       "      <th>pcc_present</th>\n",
       "      <th>ba_present</th>\n",
       "      <th>htn_yes</th>\n",
       "      <th>dm_yes</th>\n",
       "      <th>cad_yes</th>\n",
       "      <th>appet_yes</th>\n",
       "      <th>pe_yes</th>\n",
       "      <th>ane_yes</th>\n",
       "      <th>classification_yes</th>\n",
       "    </tr>\n",
       "  </thead>\n",
       "  <tbody>\n",
       "    <tr>\n",
       "      <th>0</th>\n",
       "      <td>2.0</td>\n",
       "      <td>76.459948</td>\n",
       "      <td>3.0</td>\n",
       "      <td>0.0</td>\n",
       "      <td>148.112676</td>\n",
       "      <td>57.482105</td>\n",
       "      <td>3.077356</td>\n",
       "      <td>137.528754</td>\n",
       "      <td>4.627244</td>\n",
       "      <td>12.518156</td>\n",
       "      <td>...</td>\n",
       "      <td>0.0</td>\n",
       "      <td>0.0</td>\n",
       "      <td>0.0</td>\n",
       "      <td>0.0</td>\n",
       "      <td>0.0</td>\n",
       "      <td>0.0</td>\n",
       "      <td>1.0</td>\n",
       "      <td>1.0</td>\n",
       "      <td>0.0</td>\n",
       "      <td>1.0</td>\n",
       "    </tr>\n",
       "    <tr>\n",
       "      <th>1</th>\n",
       "      <td>3.0</td>\n",
       "      <td>76.459948</td>\n",
       "      <td>2.0</td>\n",
       "      <td>0.0</td>\n",
       "      <td>148.112676</td>\n",
       "      <td>22.000000</td>\n",
       "      <td>0.700000</td>\n",
       "      <td>137.528754</td>\n",
       "      <td>4.627244</td>\n",
       "      <td>10.700000</td>\n",
       "      <td>...</td>\n",
       "      <td>1.0</td>\n",
       "      <td>0.0</td>\n",
       "      <td>0.0</td>\n",
       "      <td>0.0</td>\n",
       "      <td>0.0</td>\n",
       "      <td>0.0</td>\n",
       "      <td>1.0</td>\n",
       "      <td>0.0</td>\n",
       "      <td>0.0</td>\n",
       "      <td>1.0</td>\n",
       "    </tr>\n",
       "    <tr>\n",
       "      <th>2</th>\n",
       "      <td>4.0</td>\n",
       "      <td>76.459948</td>\n",
       "      <td>1.0</td>\n",
       "      <td>0.0</td>\n",
       "      <td>99.000000</td>\n",
       "      <td>23.000000</td>\n",
       "      <td>0.600000</td>\n",
       "      <td>138.000000</td>\n",
       "      <td>4.400000</td>\n",
       "      <td>12.000000</td>\n",
       "      <td>...</td>\n",
       "      <td>1.0</td>\n",
       "      <td>0.0</td>\n",
       "      <td>0.0</td>\n",
       "      <td>0.0</td>\n",
       "      <td>0.0</td>\n",
       "      <td>0.0</td>\n",
       "      <td>1.0</td>\n",
       "      <td>0.0</td>\n",
       "      <td>0.0</td>\n",
       "      <td>1.0</td>\n",
       "    </tr>\n",
       "  </tbody>\n",
       "</table>\n",
       "<p>3 rows × 28 columns</p>\n",
       "</div>"
      ],
      "text/plain": [
       "   age         bp   al   su         bgr         bu        sc         sod  \\\n",
       "0  2.0  76.459948  3.0  0.0  148.112676  57.482105  3.077356  137.528754   \n",
       "1  3.0  76.459948  2.0  0.0  148.112676  22.000000  0.700000  137.528754   \n",
       "2  4.0  76.459948  1.0  0.0   99.000000  23.000000  0.600000  138.000000   \n",
       "\n",
       "        pot       hrmo  ...  pc_normal  pcc_present  ba_present  htn_yes  \\\n",
       "0  4.627244  12.518156  ...        0.0          0.0         0.0      0.0   \n",
       "1  4.627244  10.700000  ...        1.0          0.0         0.0      0.0   \n",
       "2  4.400000  12.000000  ...        1.0          0.0         0.0      0.0   \n",
       "\n",
       "   dm_yes  cad_yes  appet_yes  pe_yes  ane_yes  classification_yes  \n",
       "0     0.0      0.0        1.0     1.0      0.0                 1.0  \n",
       "1     0.0      0.0        1.0     0.0      0.0                 1.0  \n",
       "2     0.0      0.0        1.0     0.0      0.0                 1.0  \n",
       "\n",
       "[3 rows x 28 columns]"
      ]
     },
     "execution_count": 8,
     "metadata": {},
     "output_type": "execute_result"
    }
   ],
   "source": [
    "df1=pd.get_dummies(df,drop_first=True).astype(float)\n",
    "df1.head(3)"
   ]
  },
  {
   "cell_type": "code",
   "execution_count": 9,
   "id": "c72f7546-4a54-4d8f-af9e-878a44d1f0fe",
   "metadata": {},
   "outputs": [
    {
     "data": {
      "text/plain": [
       "(399, 28)"
      ]
     },
     "execution_count": 9,
     "metadata": {},
     "output_type": "execute_result"
    }
   ],
   "source": [
    "df1.shape #get df shape "
   ]
  },
  {
   "cell_type": "code",
   "execution_count": 10,
   "id": "05ef5837-be2f-4d22-b470-bcdfeebe88b5",
   "metadata": {},
   "outputs": [
    {
     "data": {
      "text/plain": [
       "Index(['age', 'bp', 'al', 'su', 'bgr', 'bu', 'sc', 'sod', 'pot', 'hrmo', 'pcv',\n",
       "       'wc', 'rc', 'sg_b', 'sg_c', 'sg_d', 'sg_e', 'rbc_normal', 'pc_normal',\n",
       "       'pcc_present', 'ba_present', 'htn_yes', 'dm_yes', 'cad_yes',\n",
       "       'appet_yes', 'pe_yes', 'ane_yes', 'classification_yes'],\n",
       "      dtype='object')"
      ]
     },
     "execution_count": 10,
     "metadata": {},
     "output_type": "execute_result"
    }
   ],
   "source": [
    "df1.columns #get df columns name "
   ]
  },
  {
   "cell_type": "code",
   "execution_count": 11,
   "id": "8e3090e5-0675-43ca-8812-4d8a5014de76",
   "metadata": {},
   "outputs": [],
   "source": [
    "indep=df1.drop('classification_yes',axis=1) #input data\n",
    "dep=df1['classification_yes'] #outout data"
   ]
  },
  {
   "cell_type": "code",
   "execution_count": 12,
   "id": "860c19ea-4387-4d09-97d7-77767e506a73",
   "metadata": {},
   "outputs": [],
   "source": [
    "from sklearn.model_selection import train_test_split #library to split training data and split data\n",
    "X_train,X_test,y_train,y_test = train_test_split(indep,dep,test_size=0.3,random_state=42)"
   ]
  },
  {
   "cell_type": "code",
   "execution_count": 13,
   "id": "0658c1c0-48cc-4bd5-b786-889db96021d5",
   "metadata": {},
   "outputs": [],
   "source": [
    "from sklearn.preprocessing import StandardScaler #Stndadizing the dataframe data\n",
    "sc = StandardScaler()\n",
    "X_train_= sc.fit_transform(X_train)\n",
    "X_test_= sc.transform(X_test)"
   ]
  },
  {
   "cell_type": "code",
   "execution_count": 14,
   "id": "cb883b51-74bc-4c05-9a00-61b94957c027",
   "metadata": {},
   "outputs": [
    {
     "name": "stdout",
     "output_type": "stream",
     "text": [
      "Fitting 5 folds for each of 192 candidates, totalling 960 fits\n",
      "[[49  1]\n",
      " [ 2 68]]\n",
      "\n",
      "\n",
      "              precision    recall  f1-score   support\n",
      "\n",
      "         0.0       0.96      0.98      0.97        50\n",
      "         1.0       0.99      0.97      0.98        70\n",
      "\n",
      "    accuracy                           0.97       120\n",
      "   macro avg       0.97      0.98      0.97       120\n",
      "weighted avg       0.98      0.97      0.98       120\n",
      "\n",
      "\n",
      "\n",
      "{'bootstrap': True, 'criterion': 'gini', 'max_depth': None, 'max_features': 'sqrt', 'n_estimators': 100}\n",
      "\n",
      "\n",
      "Weighted F1-score: 0.9750338343186836\n"
     ]
    }
   ],
   "source": [
    "from sklearn.ensemble import RandomForestClassifier #importing Random Forest Classifier\n",
    "from sklearn.model_selection import GridSearchCV #importing Grid Search Cross Validation\n",
    "\n",
    "params = {'criterion':['gini','entropy','log_loss'],  #parameters are given in json\n",
    "              'max_features': ['sqrt','log2'],\n",
    "              'max_depth': [None, 10, 20, 30],\n",
    "              'n_estimators':[10,100,200, 300],\n",
    "         'bootstrap': [True, False]   \n",
    "         } \n",
    "\n",
    "\n",
    "\n",
    "grid = GridSearchCV(RandomForestClassifier(random_state=42), params, refit = True, verbose = 3,n_jobs=-1,scoring='f1_weighted') #model is created\n",
    "grid.fit(X_train,y_train)\n",
    "y_pred = grid.predict(X_test)\n",
    "from sklearn.metrics import confusion_matrix #confusion matrix is imported\n",
    "CM = confusion_matrix(y_test,y_pred)\n",
    "print(CM)\n",
    "\n",
    "print(\"\\n\")\n",
    "from sklearn.metrics import classification_report #classification report is imported\n",
    "clf_report = classification_report(y_test,y_pred,zero_division=0)\n",
    "print(clf_report)\n",
    "print(\"\\n\")\n",
    "print(grid.best_params_)\n",
    "print(\"\\n\")\n",
    "f1 = f1_score(y_test, y_pred, average='weighted')\n",
    "print(\"Weighted F1-score:\", f1)"
   ]
  },
  {
   "cell_type": "code",
   "execution_count": 15,
   "id": "35fd0429-7d32-477c-a3cb-d77d86c97f45",
   "metadata": {},
   "outputs": [
    {
     "name": "stdout",
     "output_type": "stream",
     "text": [
      "Fitting 5 folds for each of 216 candidates, totalling 1080 fits\n",
      "[[49  1]\n",
      " [ 5 65]]\n",
      "\n",
      "\n",
      "              precision    recall  f1-score   support\n",
      "\n",
      "         0.0       0.91      0.98      0.94        50\n",
      "         1.0       0.98      0.93      0.96        70\n",
      "\n",
      "    accuracy                           0.95       120\n",
      "   macro avg       0.95      0.95      0.95       120\n",
      "weighted avg       0.95      0.95      0.95       120\n",
      "\n",
      "\n",
      "\n",
      "{'class_weight': None, 'criterion': 'gini', 'max_depth': None, 'max_features': 'log2', 'splitter': 'random'}\n",
      "\n",
      "\n",
      "Weighted F1-score: 0.9502262443438915\n"
     ]
    }
   ],
   "source": [
    "from sklearn.tree import DecisionTreeClassifier #importing Decision Tree Classifier\n",
    "from sklearn.model_selection import GridSearchCV #importing Grid Search Cross Validation\n",
    "\n",
    "params = {\n",
    "    'criterion': ['gini', 'entropy', 'log_loss'],  #parameters are given in json\n",
    "    'splitter': ['best', 'random'],                 \n",
    "    'max_features': ['sqrt', 'log2', None],         \n",
    "    'max_depth': [None, 5, 10, 20, 30, 50],          \n",
    "    'class_weight': [None, 'balanced']               \n",
    "}\n",
    " \n",
    "\n",
    "\n",
    "\n",
    "grid = GridSearchCV(DecisionTreeClassifier(random_state=42), params, refit = True, verbose = 3,n_jobs=-1,scoring='f1_weighted') #model is created\n",
    "grid.fit(X_train,y_train)\n",
    "y_pred = grid.predict(X_test)\n",
    "from sklearn.metrics import confusion_matrix #confusion matrix is imported\n",
    "CM = confusion_matrix(y_test,y_pred)\n",
    "print(CM)\n",
    "print(\"\\n\")\n",
    "\n",
    "from sklearn.metrics import classification_report #classification report is imported\n",
    "clf_report = classification_report(y_test,y_pred,zero_division=0)\n",
    "print(clf_report)\n",
    "print(\"\\n\")\n",
    "print(grid.best_params_)\n",
    "print(\"\\n\")\n",
    "f1 = f1_score(y_test, y_pred, average='weighted')\n",
    "print(\"Weighted F1-score:\", f1)"
   ]
  },
  {
   "cell_type": "code",
   "execution_count": 16,
   "id": "f223398b-7dee-4e96-9334-7c67039aa30f",
   "metadata": {},
   "outputs": [
    {
     "name": "stdout",
     "output_type": "stream",
     "text": [
      "Fitting 5 folds for each of 360 candidates, totalling 1800 fits\n"
     ]
    },
    {
     "name": "stderr",
     "output_type": "stream",
     "text": [
      "C:\\Users\\abin.k\\AppData\\Local\\Programs\\Python\\Python312\\Lib\\site-packages\\numpy\\ma\\core.py:2820: RuntimeWarning: invalid value encountered in cast\n",
      "  _data = np.array(data, dtype=dtype, copy=copy,\n"
     ]
    },
    {
     "name": "stdout",
     "output_type": "stream",
     "text": [
      "[[39 11]\n",
      " [22 48]]\n",
      "\n",
      "\n",
      "              precision    recall  f1-score   support\n",
      "\n",
      "         0.0       0.64      0.78      0.70        50\n",
      "         1.0       0.81      0.69      0.74        70\n",
      "\n",
      "    accuracy                           0.72       120\n",
      "   macro avg       0.73      0.73      0.72       120\n",
      "weighted avg       0.74      0.72      0.73       120\n",
      "\n",
      "\n",
      "\n",
      "{'algorithm': 'auto', 'metric': 'manhattan', 'n_jobs': -1, 'n_neighbors': 7}\n",
      "\n",
      "\n",
      "Weighted F1-score: 0.7269013199245757\n"
     ]
    }
   ],
   "source": [
    "from sklearn.neighbors import KNeighborsClassifier #importing K Nearest Neighbors Classifier\n",
    "from sklearn.model_selection import GridSearchCV #importing Grid Search Cross Validation\n",
    "\n",
    "params = {\n",
    "    'n_neighbors': [3,5,7,9,11],    #parameters are given in json\n",
    "    'algorithm': ['auto', 'ball_tree', 'kd_tree', 'brute'],               \n",
    "    'metric': ['minkowski','euclidean','manhattan'],         \n",
    "    'n_jobs': [-1, 5, 10, 20, 30, 50]                      \n",
    "}\n",
    " \n",
    "\n",
    "\n",
    "\n",
    "grid = GridSearchCV(KNeighborsClassifier(),params, refit = True, verbose = 3,n_jobs=-1,scoring='f1_weighted') #model is created\n",
    "grid.fit(X_train,y_train)\n",
    "y_pred = grid.predict(X_test)\n",
    "from sklearn.metrics import confusion_matrix #confusion matrix is imported\n",
    "CM = confusion_matrix(y_test,y_pred)\n",
    "print(CM)\n",
    "print(\"\\n\")\n",
    "\n",
    "from sklearn.metrics import classification_report #classification report is imported\n",
    "clf_report = classification_report(y_test,y_pred,zero_division=0)\n",
    "print(clf_report)\n",
    "print(\"\\n\")\n",
    "print(grid.best_params_)\n",
    "print(\"\\n\")\n",
    "f1 = f1_score(y_test, y_pred, average='weighted')\n",
    "print(\"Weighted F1-score:\", f1)"
   ]
  },
  {
   "cell_type": "code",
   "execution_count": 17,
   "id": "7b52e923-e493-44af-93b2-6387187c06ac",
   "metadata": {},
   "outputs": [
    {
     "name": "stdout",
     "output_type": "stream",
     "text": [
      "Fitting 5 folds for each of 32 candidates, totalling 160 fits\n",
      "[[49  1]\n",
      " [ 2 68]]\n",
      "\n",
      "\n",
      "              precision    recall  f1-score   support\n",
      "\n",
      "         0.0       0.96      0.98      0.97        50\n",
      "         1.0       0.99      0.97      0.98        70\n",
      "\n",
      "    accuracy                           0.97       120\n",
      "   macro avg       0.97      0.98      0.97       120\n",
      "weighted avg       0.98      0.97      0.98       120\n",
      "\n",
      "\n",
      "\n",
      "{'C': 1, 'gamma': 'scale', 'kernel': 'linear'}\n",
      "\n",
      "\n",
      "Weighted F1-score: 0.9750338343186836\n"
     ]
    }
   ],
   "source": [
    "from sklearn.svm import SVC #importing Support Vector Machine\n",
    "from sklearn.model_selection import GridSearchCV #importing Grid Search Cross Validation\n",
    "\n",
    "params = {\n",
    "    'C': [0.1, 1, 10, 100],               # Regularization strength\n",
    "    'kernel': ['linear', 'rbf', 'poly', 'sigmoid'],  # Kernel type\n",
    "    'gamma': ['scale', 'auto'] # Kernel coefficient\n",
    "}\n",
    "\n",
    " \n",
    "grid = GridSearchCV(SVC(random_state=42), params, refit=True, verbose=3, n_jobs=-1, scoring='f1_weighted')\n",
    "\n",
    "grid.fit(X_train,y_train)\n",
    "y_pred = grid.predict(X_test)\n",
    "from sklearn.metrics import confusion_matrix #confusion matrix is imported\n",
    "CM = confusion_matrix(y_test,y_pred)\n",
    "print(CM)\n",
    "print(\"\\n\")\n",
    "\n",
    "from sklearn.metrics import classification_report #classification report is imported\n",
    "clf_report = classification_report(y_test,y_pred,zero_division=0)\n",
    "print(clf_report)\n",
    "print(\"\\n\")\n",
    "print(grid.best_params_) \n",
    "print(\"\\n\")\n",
    "f1 = f1_score(y_test, y_pred, average='weighted')\n",
    "print(\"Weighted F1-score:\", f1)"
   ]
  },
  {
   "cell_type": "code",
   "execution_count": 18,
   "id": "47aefcda-8fdd-4c88-b132-03a7cce513c0",
   "metadata": {},
   "outputs": [
    {
     "name": "stdout",
     "output_type": "stream",
     "text": [
      "Fitting 5 folds for each of 6 candidates, totalling 30 fits\n",
      "[[49  1]\n",
      " [ 2 68]]\n",
      "\n",
      "\n",
      "              precision    recall  f1-score   support\n",
      "\n",
      "         0.0       0.96      0.98      0.97        50\n",
      "         1.0       0.99      0.97      0.98        70\n",
      "\n",
      "    accuracy                           0.97       120\n",
      "   macro avg       0.97      0.98      0.97       120\n",
      "weighted avg       0.98      0.97      0.98       120\n",
      "\n",
      "\n",
      "\n",
      "{'penalty': 'l2', 'solver': 'liblinear'}\n",
      "\n",
      "\n",
      "Weighted F1-score: 0.9750338343186836\n"
     ]
    }
   ],
   "source": [
    "from sklearn.linear_model import LogisticRegression #importing Logistic Regression\n",
    "from sklearn.model_selection import GridSearchCV #importing Grid Search Cross Validation\n",
    "\n",
    "params = {\n",
    "    'solver':['newton-cg', 'lbfgs','newton-cholesky', 'liblinear','sag', 'saga'],\n",
    "             'penalty':['l2']\n",
    "}\n",
    "\n",
    " \n",
    "grid = GridSearchCV(LogisticRegression(random_state=42), params, refit=True, verbose=3, n_jobs=-1, scoring='f1_weighted')\n",
    "\n",
    "grid.fit(X_train,y_train)\n",
    "y_pred = grid.predict(X_test)\n",
    "from sklearn.metrics import confusion_matrix #confusion matrix is imported\n",
    "CM = confusion_matrix(y_test,y_pred)\n",
    "print(CM)\n",
    "print(\"\\n\")\n",
    "\n",
    "from sklearn.metrics import classification_report #classification report is imported\n",
    "clf_report = classification_report(y_test,y_pred,zero_division=0)\n",
    "print(clf_report)\n",
    "print(\"\\n\")\n",
    "print(grid.best_params_) \n",
    "print(\"\\n\")\n",
    "f1 = f1_score(y_test, y_pred, average='weighted')\n",
    "print(\"Weighted F1-score:\", f1)"
   ]
  },
  {
   "cell_type": "code",
   "execution_count": 19,
   "id": "356b48c1-ea84-4af4-9c7f-12f8a190829d",
   "metadata": {},
   "outputs": [
    {
     "name": "stdout",
     "output_type": "stream",
     "text": [
      "Fitting 5 folds for each of 100 candidates, totalling 500 fits\n",
      "[[49  1]\n",
      " [ 7 63]]\n",
      "\n",
      "\n",
      "              precision    recall  f1-score   support\n",
      "\n",
      "         0.0       0.88      0.98      0.92        50\n",
      "         1.0       0.98      0.90      0.94        70\n",
      "\n",
      "    accuracy                           0.93       120\n",
      "   macro avg       0.93      0.94      0.93       120\n",
      "weighted avg       0.94      0.93      0.93       120\n",
      "\n",
      "\n",
      "\n",
      "{'var_smoothing': 2.848035868435805e-09}\n",
      "\n",
      "\n",
      "Weighted F1-score: 0.9337275884727307\n"
     ]
    }
   ],
   "source": [
    "from sklearn.naive_bayes import GaussianNB #importing Gaussian Naive Baye's \n",
    "from sklearn.model_selection import GridSearchCV #importing Grid Search Cross Validation\n",
    "\n",
    "# params =  {\n",
    "#     'var_smoothing': np.logspace(0, -9, num=100)\n",
    "# }\n",
    "params = {\n",
    "  'var_smoothing': np.logspace(0, -9, num=100)\n",
    "}\n",
    " \n",
    "grid = GridSearchCV(GaussianNB(), params, refit=True, verbose=3, n_jobs=-1, scoring='f1_weighted')\n",
    "\n",
    "grid.fit(X_train,y_train)\n",
    "y_pred = grid.predict(X_test)\n",
    "from sklearn.metrics import confusion_matrix #confusion matrix is imported\n",
    "CM = confusion_matrix(y_test,y_pred)\n",
    "print(CM)\n",
    "print(\"\\n\")\n",
    "\n",
    "from sklearn.metrics import classification_report #classification report is imported\n",
    "clf_report = classification_report(y_test,y_pred,zero_division=0)\n",
    "print(clf_report)\n",
    "print(\"\\n\")\n",
    "print(grid.best_params_) \n",
    "print(\"\\n\")\n",
    "f1 = f1_score(y_test, y_pred, average='weighted')\n",
    "print(\"Weighted F1-score:\", f1)"
   ]
  },
  {
   "cell_type": "code",
   "execution_count": 20,
   "id": "8082379e-003e-43e1-aca7-a4538a7759d4",
   "metadata": {},
   "outputs": [
    {
     "name": "stdout",
     "output_type": "stream",
     "text": [
      "Fitting 5 folds for each of 20 candidates, totalling 100 fits\n",
      "[[50  0]\n",
      " [15 55]]\n",
      "\n",
      "\n",
      "              precision    recall  f1-score   support\n",
      "\n",
      "         0.0       0.77      1.00      0.87        50\n",
      "         1.0       1.00      0.79      0.88        70\n",
      "\n",
      "    accuracy                           0.88       120\n",
      "   macro avg       0.88      0.89      0.87       120\n",
      "weighted avg       0.90      0.88      0.88       120\n",
      "\n",
      "\n",
      "\n",
      "{'alpha': 0.1, 'fit_prior': True}\n",
      "\n",
      "\n",
      "Weighted F1-score: 0.8756521739130434\n"
     ]
    }
   ],
   "source": [
    "from sklearn.naive_bayes import MultinomialNB #importing Multinomial Naive Baye's \n",
    "from sklearn.model_selection import GridSearchCV #importing Grid Search Cross Validation\n",
    "\n",
    "params = {\n",
    "   \"alpha\": np.linspace(0.1, 1.0, 10),\n",
    "            \"fit_prior\": [True, False]\n",
    "}\n",
    " \n",
    "grid = GridSearchCV(MultinomialNB(), params, refit=True, verbose=3, n_jobs=-1, scoring='f1_weighted')\n",
    "\n",
    "grid.fit(X_train,y_train)\n",
    "y_pred = grid.predict(X_test)\n",
    "from sklearn.metrics import confusion_matrix #confusion matrix is imported\n",
    "CM = confusion_matrix(y_test,y_pred)\n",
    "print(CM)\n",
    "print(\"\\n\")\n",
    "\n",
    "from sklearn.metrics import classification_report #classification report is imported\n",
    "clf_report = classification_report(y_test,y_pred,zero_division=0)\n",
    "print(clf_report)\n",
    "print(\"\\n\")\n",
    "print(grid.best_params_) \n",
    "print(\"\\n\")\n",
    "f1 = f1_score(y_test, y_pred, average='weighted')\n",
    "print(\"Weighted F1-score:\", f1)"
   ]
  },
  {
   "cell_type": "code",
   "execution_count": 21,
   "id": "de3be554-7e48-4272-ac3d-c0b0c330c81c",
   "metadata": {},
   "outputs": [
    {
     "name": "stdout",
     "output_type": "stream",
     "text": [
      "Fitting 5 folds for each of 60 candidates, totalling 300 fits\n",
      "[[49  1]\n",
      " [ 3 67]]\n",
      "\n",
      "\n",
      "              precision    recall  f1-score   support\n",
      "\n",
      "         0.0       0.94      0.98      0.96        50\n",
      "         1.0       0.99      0.96      0.97        70\n",
      "\n",
      "    accuracy                           0.97       120\n",
      "   macro avg       0.96      0.97      0.97       120\n",
      "weighted avg       0.97      0.97      0.97       120\n",
      "\n",
      "\n",
      "\n",
      "{'alpha': 0.1, 'binarize': 0.0, 'fit_prior': True}\n",
      "\n",
      "\n",
      "Weighted F1-score: 0.9667519181585678\n"
     ]
    }
   ],
   "source": [
    "from sklearn.naive_bayes import BernoulliNB #importing Bernoulli Naive Baye's \n",
    "from sklearn.model_selection import GridSearchCV #importing Grid Search Cross Validation\n",
    "\n",
    "params = {\n",
    "              \"alpha\": np.linspace(0.1, 1.0, 10),\n",
    "            \"binarize\": [0.0, 0.5, 1.0],\n",
    "            \"fit_prior\": [True, False]\n",
    "}\n",
    " \n",
    "grid = GridSearchCV(BernoulliNB(), params, refit=True, verbose=3, n_jobs=-1, scoring='f1_weighted')\n",
    "\n",
    "grid.fit(X_train,y_train)\n",
    "y_pred = grid.predict(X_test)\n",
    "from sklearn.metrics import confusion_matrix #confusion matrix is imported\n",
    "CM = confusion_matrix(y_test,y_pred)\n",
    "print(CM)\n",
    "print(\"\\n\")\n",
    "\n",
    "from sklearn.metrics import classification_report #classification report is imported\n",
    "clf_report = classification_report(y_test,y_pred,zero_division=0)\n",
    "print(clf_report)\n",
    "print(\"\\n\")\n",
    "print(grid.best_params_) \n",
    "print(\"\\n\")\n",
    "f1 = f1_score(y_test, y_pred, average='weighted')\n",
    "print(\"Weighted F1-score:\", f1)"
   ]
  },
  {
   "cell_type": "code",
   "execution_count": 22,
   "id": "f18be3a4-bbc7-44da-9047-807843fff9e1",
   "metadata": {},
   "outputs": [
    {
     "name": "stdout",
     "output_type": "stream",
     "text": [
      "Fitting 5 folds for each of 20 candidates, totalling 100 fits\n",
      "[[50  0]\n",
      " [15 55]]\n",
      "\n",
      "\n",
      "              precision    recall  f1-score   support\n",
      "\n",
      "         0.0       0.77      1.00      0.87        50\n",
      "         1.0       1.00      0.79      0.88        70\n",
      "\n",
      "    accuracy                           0.88       120\n",
      "   macro avg       0.88      0.89      0.87       120\n",
      "weighted avg       0.90      0.88      0.88       120\n",
      "\n",
      "\n",
      "\n",
      "{'alpha': 0.1, 'norm': False}\n",
      "\n",
      "\n",
      "Weighted F1-score: 0.8756521739130434\n"
     ]
    }
   ],
   "source": [
    "from sklearn.naive_bayes import ComplementNB #importing Complement Naive Baye's \n",
    "from sklearn.model_selection import GridSearchCV #importing Grid Search Cross Validation\n",
    "\n",
    "params = {\n",
    "            \"alpha\": np.linspace(0.1, 1.0, 10),\n",
    "            \"norm\": [True, False]\n",
    "}\n",
    " \n",
    "grid = GridSearchCV(ComplementNB(), params, refit=True, verbose=3, n_jobs=-1, scoring='f1_weighted')\n",
    "\n",
    "grid.fit(X_train,y_train)\n",
    "y_pred = grid.predict(X_test)\n",
    "from sklearn.metrics import confusion_matrix #confusion matrix is imported\n",
    "CM = confusion_matrix(y_test,y_pred)\n",
    "print(CM)\n",
    "print(\"\\n\")\n",
    "\n",
    "from sklearn.metrics import classification_report #classification report is imported\n",
    "clf_report = classification_report(y_test,y_pred,zero_division=0)\n",
    "print(clf_report)\n",
    "print(\"\\n\")\n",
    "print(grid.best_params_) \n",
    "print(\"\\n\")\n",
    "f1 = f1_score(y_test, y_pred, average='weighted')\n",
    "print(\"Weighted F1-score:\", f1)"
   ]
  },
  {
   "cell_type": "code",
   "execution_count": null,
   "id": "e03854a2-89e3-409f-8dce-3f457e07dae3",
   "metadata": {},
   "outputs": [],
   "source": []
  }
 ],
 "metadata": {
  "kernelspec": {
   "display_name": "Python 3 (ipykernel)",
   "language": "python",
   "name": "python3"
  },
  "language_info": {
   "codemirror_mode": {
    "name": "ipython",
    "version": 3
   },
   "file_extension": ".py",
   "mimetype": "text/x-python",
   "name": "python",
   "nbconvert_exporter": "python",
   "pygments_lexer": "ipython3",
   "version": "3.12.3"
  }
 },
 "nbformat": 4,
 "nbformat_minor": 5
}
